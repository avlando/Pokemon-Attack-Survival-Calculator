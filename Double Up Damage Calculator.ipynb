{
 "cells": [
  {
   "cell_type": "code",
   "execution_count": 9,
   "metadata": {},
   "outputs": [
    {
     "name": "stdout",
     "output_type": "stream",
     "text": [
      "[150, 151, 153, 154, 157, 159, 160, 162, 163, 165, 168, 169, 171, 172, 174, 177]\n",
      "196 Urshifu (Single Strike) Wicked Blow vs. 4 HP / 0 Def Flutter Mane on a crital hit: 150 - 177 ( 114 % - 135 %)\n",
      "Number of damage rolls equal to 131 or more: 256\n",
      "Chance to Survive: 0.0 %\n"
     ]
    }
   ],
   "source": [
    "# TO DO:\n",
    "# Typing for Type modifier\n",
    "# Natures for Atk, Def, Sp. Atk, and Sp. Def\n",
    "# Crit off and on\n",
    "\n",
    "from itertools import product\n",
    "import math\n",
    "from Typing import typing\n",
    "\n",
    "def_pokemon_type = \"normal\"\n",
    "atk_type = \"normal\"\n",
    "\n",
    "atk_base = (100, 130, 100, 63, 60, 97) #Urshifu (Single Strike)\n",
    "atk_EV = (4, 196, 0, 0, 0, 252)\n",
    "\n",
    "def_base = (55, 55, 55, 135, 135, 135) #Flutter Mane\n",
    "def_EV = (4, 0, 0, 252, 0, 252)\n",
    "\n",
    "IV = 31\n",
    "level = 50\n",
    "nature = 1.0\n",
    "base_power = 75\n",
    "Crit = 1.5\n",
    "STAB = 1.5\n",
    "Type = typing\n",
    "\n",
    "atk_HP_stat = math.floor(((2 * atk_base[0] + IV + math.floor(atk_EV[0] / 4)) * level) / 100) + level + 10\n",
    "atk_attack_stat = math.floor(((math.floor(2*atk_base[1] + IV + math.floor(atk_EV[1]/4))*level/100)+5)*nature)\n",
    "atk_defense_stat = math.floor(((math.floor(2*atk_base[2] + IV + math.floor(atk_EV[2]/4))*level/100)+5)*nature)\n",
    "atk_sp_attack_stat = math.floor(((math.floor(2*atk_base[3] + IV + math.floor(atk_EV[3]/4))*level/100)+5)*nature)\n",
    "atk_sp_defense_stat = math.floor(((math.floor(2*atk_base[4] + IV + math.floor(atk_EV[4]/4))*level/100)+5)*nature)\n",
    "atk_speed_stat = math.floor(((math.floor(2*atk_base[5] + IV + math.floor(atk_EV[5]/4))*level/100)+5)*nature)\n",
    "\n",
    "def_HP_stat = math.floor(((2 * def_base[0] + IV + math.floor(atk_EV[0] / 4)) * level) / 100) + level + 10\n",
    "def_attack_stat = math.floor(((math.floor(2*def_base[1] + IV + math.floor(def_EV[1]/4))*level/100)+5)*nature)\n",
    "def_defense_stat = math.floor(((math.floor(2*def_base[2] + IV + math.floor(def_EV[2]/4))*level/100)+5)*nature)\n",
    "def_sp_attack_stat = math.floor(((math.floor(2*def_base[3] + IV + math.floor(def_EV[3]/4))*level/100)+5)*nature)\n",
    "def_sp_defense_stat = math.floor(((math.floor(2*def_base[4] + IV + math.floor(def_EV[4]/4))*level/100)+5)*nature)\n",
    "def_speed_stat = math.floor(((math.floor(2*def_base[5] + IV + math.floor(def_EV[5]/4))*level/100)+5)*nature)\n",
    "\n",
    "def custom_round(x):\n",
    "    \"\"\"Custom rounding method to round down at 0.5\"\"\"\n",
    "    return int(x + 0.5) if x - int(x) >= 0.5 else int(x)\n",
    "\n",
    "def damage_calc(level, base_power, atk_attack_stat, def_defense_stat):\n",
    "    # Calculate the intermediate values, rounding each multiplication to the nearest integer\n",
    "    damage = ((2 * level / 5 + 2) * base_power * (atk_attack_stat / def_defense_stat) / 50 + 2)\n",
    "    damage = math.floor(damage * Crit)\n",
    "    return damage\n",
    "\n",
    "damage_rolls = []\n",
    "for i in range(85, 101):  # Multiply by 0.85 to 1, inclusive\n",
    "    multiplier = i / 100  # Convert the range to a float multiplier\n",
    "    damage = math.floor(damage_calc(level, base_power, atk_attack_stat, def_defense_stat) * multiplier)\n",
    "    damage_rolls.append(damage)\n",
    "\n",
    "# Apply STAB modifier rounding\n",
    "damage_rolls = [math.floor(damage * STAB) for damage in damage_rolls]\n",
    "\n",
    "# Apply Type modifier rounding\n",
    "damage_rolls = [math.floor(damage * Type) for damage in damage_rolls]\n",
    "\n",
    "Min_roll = min(damage_rolls)\n",
    "Max_roll = max(damage_rolls)\n",
    "\n",
    "print(damage_rolls)\n",
    "\n",
    "print(atk_EV[1],\"Urshifu (Single Strike) Wicked Blow vs.\",def_EV[0],\"HP /\",def_EV[2],\"Def Flutter Mane on a crital hit:\",damage_rolls[0],\"-\",damage_rolls[-1], \"(\",math.floor(Min_roll/def_HP_stat * 100),\"% -\",math.floor(Max_roll/def_HP_stat * 100),\"%)\")\n",
    "\n",
    "attack_1 = damage_rolls\n",
    "attack_2 = [60, 61, 61, 63, 63, 64, 64, 66, 66, 67, 67, 69, 69, 70, 70, 72]\n",
    "\n",
    "combinations = list(product(attack_1, attack_2))\n",
    "count = sum(1 for combination in combinations if sum(combination) >= def_HP_stat)\n",
    "\n",
    "print(\"Number of damage rolls equal to\", def_HP_stat ,\"or more:\", count)\n",
    "print(\"Chance to Survive:\", (1 - count / len(combinations)) * 100,\"%\")\n"
   ]
  },
  {
   "cell_type": "code",
   "execution_count": null,
   "metadata": {},
   "outputs": [],
   "source": []
  }
 ],
 "metadata": {
  "kernelspec": {
   "display_name": "Python 3",
   "language": "python",
   "name": "python3"
  },
  "language_info": {
   "codemirror_mode": {
    "name": "ipython",
    "version": 3
   },
   "file_extension": ".py",
   "mimetype": "text/x-python",
   "name": "python",
   "nbconvert_exporter": "python",
   "pygments_lexer": "ipython3",
   "version": "3.11.9"
  }
 },
 "nbformat": 4,
 "nbformat_minor": 2
}
